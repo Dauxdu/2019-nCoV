{
 "cells": [
  {
   "cell_type": "markdown",
   "metadata": {},
   "source": [
    "# 1.1 Парсинг данных"
   ]
  },
  {
   "cell_type": "markdown",
   "metadata": {},
   "source": [
    "### Импорт библиотек для загрузки данных"
   ]
  },
  {
   "cell_type": "code",
   "execution_count": 1,
   "metadata": {},
   "outputs": [],
   "source": [
    "# Импорт модуля pandas\n",
    "import pandas as pd\n",
    "import numpy as np\n",
    "# Игнорирование предупреждений\n",
    "import warnings\n",
    "warnings.filterwarnings('ignore')"
   ]
  },
  {
   "cell_type": "markdown",
   "metadata": {},
   "source": [
    "Изучив репозиторий GitHub я нашёл не только owid-covid-data.csv датасет, но и последние обновлённые данные для этого датасета  с именем owid-covid-latest.csv\n",
    "Будем использовать их для более подробного изучения."
   ]
  },
  {
   "cell_type": "markdown",
   "metadata": {},
   "source": [
    "### Загрузим данные с GitHub owid-covid-data.csv и последние данные owid-covid-latest.csv для работы"
   ]
  },
  {
   "cell_type": "code",
   "execution_count": 2,
   "metadata": {},
   "outputs": [],
   "source": [
    "# Загрузка данных owid-covid-data.csv\n",
    "URL1 = 'https://github.com/owid/covid-19-data/blob/master/public/data/owid-covid-data.csv?raw=true'\n",
    "# Загрузка последних известных данных owid-covid-latest.csv\n",
    "URL2 = 'https://github.com/owid/covid-19-data/blob/master/public/data/latest/owid-covid-latest.csv?raw=true'\n",
    "\n",
    "# Чтение данных pandas\n",
    "df1 = pd.read_csv(URL1, index_col=0)\n",
    "df2 = pd.read_csv(URL2, index_col=0)"
   ]
  },
  {
   "cell_type": "markdown",
   "metadata": {},
   "source": [
    "После загрузки данных два датасета необходимо объединить в один. Для этого проверим шейпом их размеры"
   ]
  },
  {
   "cell_type": "code",
   "execution_count": 3,
   "metadata": {},
   "outputs": [
    {
     "data": {
      "text/plain": [
       "(79880, 58)"
      ]
     },
     "execution_count": 3,
     "metadata": {},
     "output_type": "execute_result"
    }
   ],
   "source": [
    "# Проверка размера owid-covid-data.csv\n",
    "df1.shape"
   ]
  },
  {
   "cell_type": "code",
   "execution_count": 4,
   "metadata": {},
   "outputs": [
    {
     "data": {
      "text/plain": [
       "(210, 58)"
      ]
     },
     "execution_count": 4,
     "metadata": {},
     "output_type": "execute_result"
    }
   ],
   "source": [
    "# Проверка размера owid-covid-latest.csv\n",
    "df2.shape"
   ]
  },
  {
   "cell_type": "markdown",
   "metadata": {},
   "source": [
    "Убедившись в схожести размеров и данных без риска объединяем. "
   ]
  },
  {
   "cell_type": "code",
   "execution_count": 5,
   "metadata": {},
   "outputs": [
    {
     "data": {
      "text/plain": [
       "(80090, 59)"
      ]
     },
     "execution_count": 5,
     "metadata": {},
     "output_type": "execute_result"
    }
   ],
   "source": [
    "# Объединение двух датасетов в один\n",
    "df = df1.append(df2)\n",
    "# Проверка размера после объединения\n",
    "df.shape"
   ]
  },
  {
   "cell_type": "markdown",
   "metadata": {},
   "source": [
    "После объединения у нас появился дополнительный столбец last_updated_date, который показывает нам целых 200 зарегестрированных случаев заражения COVID в апреле месяца. Мало, но пригодится"
   ]
  },
  {
   "cell_type": "code",
   "execution_count": 6,
   "metadata": {},
   "outputs": [],
   "source": [
    "# Объединение двух датасетов в один\n",
    "df = df1.append(df2)"
   ]
  },
  {
   "cell_type": "code",
   "execution_count": 7,
   "metadata": {},
   "outputs": [
    {
     "data": {
      "text/html": [
       "<div>\n",
       "<style scoped>\n",
       "    .dataframe tbody tr th:only-of-type {\n",
       "        vertical-align: middle;\n",
       "    }\n",
       "\n",
       "    .dataframe tbody tr th {\n",
       "        vertical-align: top;\n",
       "    }\n",
       "\n",
       "    .dataframe thead th {\n",
       "        text-align: right;\n",
       "    }\n",
       "</style>\n",
       "<table border=\"1\" class=\"dataframe\">\n",
       "  <thead>\n",
       "    <tr style=\"text-align: right;\">\n",
       "      <th></th>\n",
       "      <th>continent</th>\n",
       "      <th>location</th>\n",
       "      <th>date</th>\n",
       "      <th>total_cases</th>\n",
       "      <th>new_cases</th>\n",
       "      <th>new_cases_smoothed</th>\n",
       "      <th>total_deaths</th>\n",
       "      <th>new_deaths</th>\n",
       "      <th>new_deaths_smoothed</th>\n",
       "      <th>total_cases_per_million</th>\n",
       "      <th>...</th>\n",
       "      <th>extreme_poverty</th>\n",
       "      <th>cardiovasc_death_rate</th>\n",
       "      <th>diabetes_prevalence</th>\n",
       "      <th>female_smokers</th>\n",
       "      <th>male_smokers</th>\n",
       "      <th>handwashing_facilities</th>\n",
       "      <th>hospital_beds_per_thousand</th>\n",
       "      <th>life_expectancy</th>\n",
       "      <th>human_development_index</th>\n",
       "      <th>last_updated_date</th>\n",
       "    </tr>\n",
       "    <tr>\n",
       "      <th>iso_code</th>\n",
       "      <th></th>\n",
       "      <th></th>\n",
       "      <th></th>\n",
       "      <th></th>\n",
       "      <th></th>\n",
       "      <th></th>\n",
       "      <th></th>\n",
       "      <th></th>\n",
       "      <th></th>\n",
       "      <th></th>\n",
       "      <th></th>\n",
       "      <th></th>\n",
       "      <th></th>\n",
       "      <th></th>\n",
       "      <th></th>\n",
       "      <th></th>\n",
       "      <th></th>\n",
       "      <th></th>\n",
       "      <th></th>\n",
       "      <th></th>\n",
       "      <th></th>\n",
       "    </tr>\n",
       "  </thead>\n",
       "  <tbody>\n",
       "    <tr>\n",
       "      <th>AFG</th>\n",
       "      <td>Asia</td>\n",
       "      <td>Afghanistan</td>\n",
       "      <td>2020-02-24</td>\n",
       "      <td>1.0</td>\n",
       "      <td>1.0</td>\n",
       "      <td>NaN</td>\n",
       "      <td>NaN</td>\n",
       "      <td>NaN</td>\n",
       "      <td>NaN</td>\n",
       "      <td>0.026</td>\n",
       "      <td>...</td>\n",
       "      <td>NaN</td>\n",
       "      <td>597.029</td>\n",
       "      <td>9.59</td>\n",
       "      <td>NaN</td>\n",
       "      <td>NaN</td>\n",
       "      <td>37.746</td>\n",
       "      <td>0.500</td>\n",
       "      <td>64.83</td>\n",
       "      <td>0.511</td>\n",
       "      <td>NaN</td>\n",
       "    </tr>\n",
       "    <tr>\n",
       "      <th>AFG</th>\n",
       "      <td>Asia</td>\n",
       "      <td>Afghanistan</td>\n",
       "      <td>2020-02-25</td>\n",
       "      <td>1.0</td>\n",
       "      <td>0.0</td>\n",
       "      <td>NaN</td>\n",
       "      <td>NaN</td>\n",
       "      <td>NaN</td>\n",
       "      <td>NaN</td>\n",
       "      <td>0.026</td>\n",
       "      <td>...</td>\n",
       "      <td>NaN</td>\n",
       "      <td>597.029</td>\n",
       "      <td>9.59</td>\n",
       "      <td>NaN</td>\n",
       "      <td>NaN</td>\n",
       "      <td>37.746</td>\n",
       "      <td>0.500</td>\n",
       "      <td>64.83</td>\n",
       "      <td>0.511</td>\n",
       "      <td>NaN</td>\n",
       "    </tr>\n",
       "    <tr>\n",
       "      <th>AFG</th>\n",
       "      <td>Asia</td>\n",
       "      <td>Afghanistan</td>\n",
       "      <td>2020-02-26</td>\n",
       "      <td>1.0</td>\n",
       "      <td>0.0</td>\n",
       "      <td>NaN</td>\n",
       "      <td>NaN</td>\n",
       "      <td>NaN</td>\n",
       "      <td>NaN</td>\n",
       "      <td>0.026</td>\n",
       "      <td>...</td>\n",
       "      <td>NaN</td>\n",
       "      <td>597.029</td>\n",
       "      <td>9.59</td>\n",
       "      <td>NaN</td>\n",
       "      <td>NaN</td>\n",
       "      <td>37.746</td>\n",
       "      <td>0.500</td>\n",
       "      <td>64.83</td>\n",
       "      <td>0.511</td>\n",
       "      <td>NaN</td>\n",
       "    </tr>\n",
       "    <tr>\n",
       "      <th>AFG</th>\n",
       "      <td>Asia</td>\n",
       "      <td>Afghanistan</td>\n",
       "      <td>2020-02-27</td>\n",
       "      <td>1.0</td>\n",
       "      <td>0.0</td>\n",
       "      <td>NaN</td>\n",
       "      <td>NaN</td>\n",
       "      <td>NaN</td>\n",
       "      <td>NaN</td>\n",
       "      <td>0.026</td>\n",
       "      <td>...</td>\n",
       "      <td>NaN</td>\n",
       "      <td>597.029</td>\n",
       "      <td>9.59</td>\n",
       "      <td>NaN</td>\n",
       "      <td>NaN</td>\n",
       "      <td>37.746</td>\n",
       "      <td>0.500</td>\n",
       "      <td>64.83</td>\n",
       "      <td>0.511</td>\n",
       "      <td>NaN</td>\n",
       "    </tr>\n",
       "    <tr>\n",
       "      <th>AFG</th>\n",
       "      <td>Asia</td>\n",
       "      <td>Afghanistan</td>\n",
       "      <td>2020-02-28</td>\n",
       "      <td>1.0</td>\n",
       "      <td>0.0</td>\n",
       "      <td>NaN</td>\n",
       "      <td>NaN</td>\n",
       "      <td>NaN</td>\n",
       "      <td>NaN</td>\n",
       "      <td>0.026</td>\n",
       "      <td>...</td>\n",
       "      <td>NaN</td>\n",
       "      <td>597.029</td>\n",
       "      <td>9.59</td>\n",
       "      <td>NaN</td>\n",
       "      <td>NaN</td>\n",
       "      <td>37.746</td>\n",
       "      <td>0.500</td>\n",
       "      <td>64.83</td>\n",
       "      <td>0.511</td>\n",
       "      <td>NaN</td>\n",
       "    </tr>\n",
       "    <tr>\n",
       "      <th>...</th>\n",
       "      <td>...</td>\n",
       "      <td>...</td>\n",
       "      <td>...</td>\n",
       "      <td>...</td>\n",
       "      <td>...</td>\n",
       "      <td>...</td>\n",
       "      <td>...</td>\n",
       "      <td>...</td>\n",
       "      <td>...</td>\n",
       "      <td>...</td>\n",
       "      <td>...</td>\n",
       "      <td>...</td>\n",
       "      <td>...</td>\n",
       "      <td>...</td>\n",
       "      <td>...</td>\n",
       "      <td>...</td>\n",
       "      <td>...</td>\n",
       "      <td>...</td>\n",
       "      <td>...</td>\n",
       "      <td>...</td>\n",
       "      <td>...</td>\n",
       "    </tr>\n",
       "    <tr>\n",
       "      <th>VNM</th>\n",
       "      <td>Asia</td>\n",
       "      <td>Vietnam</td>\n",
       "      <td>NaN</td>\n",
       "      <td>2648.0</td>\n",
       "      <td>11.0</td>\n",
       "      <td>7.714</td>\n",
       "      <td>35.0</td>\n",
       "      <td>0.0</td>\n",
       "      <td>0.000</td>\n",
       "      <td>27.204</td>\n",
       "      <td>...</td>\n",
       "      <td>2.0</td>\n",
       "      <td>245.465</td>\n",
       "      <td>6.00</td>\n",
       "      <td>1.000</td>\n",
       "      <td>45.900</td>\n",
       "      <td>85.847</td>\n",
       "      <td>2.600</td>\n",
       "      <td>75.40</td>\n",
       "      <td>0.704</td>\n",
       "      <td>2021-04-06</td>\n",
       "    </tr>\n",
       "    <tr>\n",
       "      <th>OWID_WRL</th>\n",
       "      <td>NaN</td>\n",
       "      <td>World</td>\n",
       "      <td>NaN</td>\n",
       "      <td>132418956.0</td>\n",
       "      <td>605318.0</td>\n",
       "      <td>600833.000</td>\n",
       "      <td>2872435.0</td>\n",
       "      <td>11881.0</td>\n",
       "      <td>9857.714</td>\n",
       "      <td>16988.117</td>\n",
       "      <td>...</td>\n",
       "      <td>10.0</td>\n",
       "      <td>233.070</td>\n",
       "      <td>8.51</td>\n",
       "      <td>6.434</td>\n",
       "      <td>34.635</td>\n",
       "      <td>60.130</td>\n",
       "      <td>2.705</td>\n",
       "      <td>72.58</td>\n",
       "      <td>0.737</td>\n",
       "      <td>2021-04-06</td>\n",
       "    </tr>\n",
       "    <tr>\n",
       "      <th>YEM</th>\n",
       "      <td>Asia</td>\n",
       "      <td>Yemen</td>\n",
       "      <td>NaN</td>\n",
       "      <td>4975.0</td>\n",
       "      <td>94.0</td>\n",
       "      <td>104.000</td>\n",
       "      <td>976.0</td>\n",
       "      <td>21.0</td>\n",
       "      <td>13.429</td>\n",
       "      <td>166.801</td>\n",
       "      <td>...</td>\n",
       "      <td>18.8</td>\n",
       "      <td>495.003</td>\n",
       "      <td>5.35</td>\n",
       "      <td>7.600</td>\n",
       "      <td>29.200</td>\n",
       "      <td>49.542</td>\n",
       "      <td>0.700</td>\n",
       "      <td>66.12</td>\n",
       "      <td>0.470</td>\n",
       "      <td>2021-04-06</td>\n",
       "    </tr>\n",
       "    <tr>\n",
       "      <th>ZMB</th>\n",
       "      <td>Africa</td>\n",
       "      <td>Zambia</td>\n",
       "      <td>NaN</td>\n",
       "      <td>89071.0</td>\n",
       "      <td>62.0</td>\n",
       "      <td>124.571</td>\n",
       "      <td>1224.0</td>\n",
       "      <td>2.0</td>\n",
       "      <td>3.143</td>\n",
       "      <td>4845.040</td>\n",
       "      <td>...</td>\n",
       "      <td>57.5</td>\n",
       "      <td>234.499</td>\n",
       "      <td>3.94</td>\n",
       "      <td>3.100</td>\n",
       "      <td>24.700</td>\n",
       "      <td>13.938</td>\n",
       "      <td>2.000</td>\n",
       "      <td>63.89</td>\n",
       "      <td>0.584</td>\n",
       "      <td>2021-04-06</td>\n",
       "    </tr>\n",
       "    <tr>\n",
       "      <th>ZWE</th>\n",
       "      <td>Africa</td>\n",
       "      <td>Zimbabwe</td>\n",
       "      <td>NaN</td>\n",
       "      <td>36966.0</td>\n",
       "      <td>32.0</td>\n",
       "      <td>18.143</td>\n",
       "      <td>1531.0</td>\n",
       "      <td>6.0</td>\n",
       "      <td>1.571</td>\n",
       "      <td>2487.128</td>\n",
       "      <td>...</td>\n",
       "      <td>21.4</td>\n",
       "      <td>307.846</td>\n",
       "      <td>1.82</td>\n",
       "      <td>1.600</td>\n",
       "      <td>30.700</td>\n",
       "      <td>36.791</td>\n",
       "      <td>1.700</td>\n",
       "      <td>61.49</td>\n",
       "      <td>0.571</td>\n",
       "      <td>2021-04-06</td>\n",
       "    </tr>\n",
       "  </tbody>\n",
       "</table>\n",
       "<p>80090 rows × 59 columns</p>\n",
       "</div>"
      ],
      "text/plain": [
       "         continent     location        date  total_cases  new_cases  \\\n",
       "iso_code                                                              \n",
       "AFG           Asia  Afghanistan  2020-02-24          1.0        1.0   \n",
       "AFG           Asia  Afghanistan  2020-02-25          1.0        0.0   \n",
       "AFG           Asia  Afghanistan  2020-02-26          1.0        0.0   \n",
       "AFG           Asia  Afghanistan  2020-02-27          1.0        0.0   \n",
       "AFG           Asia  Afghanistan  2020-02-28          1.0        0.0   \n",
       "...            ...          ...         ...          ...        ...   \n",
       "VNM           Asia      Vietnam         NaN       2648.0       11.0   \n",
       "OWID_WRL       NaN        World         NaN  132418956.0   605318.0   \n",
       "YEM           Asia        Yemen         NaN       4975.0       94.0   \n",
       "ZMB         Africa       Zambia         NaN      89071.0       62.0   \n",
       "ZWE         Africa     Zimbabwe         NaN      36966.0       32.0   \n",
       "\n",
       "          new_cases_smoothed  total_deaths  new_deaths  new_deaths_smoothed  \\\n",
       "iso_code                                                                      \n",
       "AFG                      NaN           NaN         NaN                  NaN   \n",
       "AFG                      NaN           NaN         NaN                  NaN   \n",
       "AFG                      NaN           NaN         NaN                  NaN   \n",
       "AFG                      NaN           NaN         NaN                  NaN   \n",
       "AFG                      NaN           NaN         NaN                  NaN   \n",
       "...                      ...           ...         ...                  ...   \n",
       "VNM                    7.714          35.0         0.0                0.000   \n",
       "OWID_WRL          600833.000     2872435.0     11881.0             9857.714   \n",
       "YEM                  104.000         976.0        21.0               13.429   \n",
       "ZMB                  124.571        1224.0         2.0                3.143   \n",
       "ZWE                   18.143        1531.0         6.0                1.571   \n",
       "\n",
       "          total_cases_per_million  ...  extreme_poverty  \\\n",
       "iso_code                           ...                    \n",
       "AFG                         0.026  ...              NaN   \n",
       "AFG                         0.026  ...              NaN   \n",
       "AFG                         0.026  ...              NaN   \n",
       "AFG                         0.026  ...              NaN   \n",
       "AFG                         0.026  ...              NaN   \n",
       "...                           ...  ...              ...   \n",
       "VNM                        27.204  ...              2.0   \n",
       "OWID_WRL                16988.117  ...             10.0   \n",
       "YEM                       166.801  ...             18.8   \n",
       "ZMB                      4845.040  ...             57.5   \n",
       "ZWE                      2487.128  ...             21.4   \n",
       "\n",
       "          cardiovasc_death_rate  diabetes_prevalence  female_smokers  \\\n",
       "iso_code                                                               \n",
       "AFG                     597.029                 9.59             NaN   \n",
       "AFG                     597.029                 9.59             NaN   \n",
       "AFG                     597.029                 9.59             NaN   \n",
       "AFG                     597.029                 9.59             NaN   \n",
       "AFG                     597.029                 9.59             NaN   \n",
       "...                         ...                  ...             ...   \n",
       "VNM                     245.465                 6.00           1.000   \n",
       "OWID_WRL                233.070                 8.51           6.434   \n",
       "YEM                     495.003                 5.35           7.600   \n",
       "ZMB                     234.499                 3.94           3.100   \n",
       "ZWE                     307.846                 1.82           1.600   \n",
       "\n",
       "          male_smokers  handwashing_facilities  hospital_beds_per_thousand  \\\n",
       "iso_code                                                                     \n",
       "AFG                NaN                  37.746                       0.500   \n",
       "AFG                NaN                  37.746                       0.500   \n",
       "AFG                NaN                  37.746                       0.500   \n",
       "AFG                NaN                  37.746                       0.500   \n",
       "AFG                NaN                  37.746                       0.500   \n",
       "...                ...                     ...                         ...   \n",
       "VNM             45.900                  85.847                       2.600   \n",
       "OWID_WRL        34.635                  60.130                       2.705   \n",
       "YEM             29.200                  49.542                       0.700   \n",
       "ZMB             24.700                  13.938                       2.000   \n",
       "ZWE             30.700                  36.791                       1.700   \n",
       "\n",
       "          life_expectancy  human_development_index  last_updated_date  \n",
       "iso_code                                                               \n",
       "AFG                 64.83                    0.511                NaN  \n",
       "AFG                 64.83                    0.511                NaN  \n",
       "AFG                 64.83                    0.511                NaN  \n",
       "AFG                 64.83                    0.511                NaN  \n",
       "AFG                 64.83                    0.511                NaN  \n",
       "...                   ...                      ...                ...  \n",
       "VNM                 75.40                    0.704         2021-04-06  \n",
       "OWID_WRL            72.58                    0.737         2021-04-06  \n",
       "YEM                 66.12                    0.470         2021-04-06  \n",
       "ZMB                 63.89                    0.584         2021-04-06  \n",
       "ZWE                 61.49                    0.571         2021-04-06  \n",
       "\n",
       "[80090 rows x 59 columns]"
      ]
     },
     "execution_count": 7,
     "metadata": {},
     "output_type": "execute_result"
    }
   ],
   "source": [
    "# Вывод датасета\n",
    "df"
   ]
  },
  {
   "cell_type": "markdown",
   "metadata": {},
   "source": [
    "# 1.2 Предобработка данных и выделение значимых атрибутов"
   ]
  },
  {
   "cell_type": "markdown",
   "metadata": {},
   "source": [
    "Даже без визуализации данных видно, что в большинстве столбцов есть пропущенные данные. Но всё же визуализацию сделать надо :)"
   ]
  },
  {
   "cell_type": "code",
   "execution_count": null,
   "metadata": {},
   "outputs": [],
   "source": [
    "# Импортируем библиотеку для быстрого анализа и визуализации данных в датасете\n",
    "from pandas_profiling import ProfileReport\n",
    "# Ввод переменной с параметрами анализа БД\n",
    "profile = ProfileReport(df, title='Pandas Profiling Report', explorative=True)\n",
    "# Вывод виджета\n",
    "profile.to_widgets()\n",
    "\n",
    "# Сохранение отчёта анализа БД\n",
    "profile.to_file(\"Pandas Profiling Report.html\")"
   ]
  },
  {
   "cell_type": "markdown",
   "metadata": {},
   "source": [
    "#### Возможно, виджет не отобразится в моём отчёте HTML, поэтому в папке с отчётом можно будеть открыть его отдельно."
   ]
  },
  {
   "cell_type": "markdown",
   "metadata": {},
   "source": [
    "Во-первых, удалим все индексы, потому что индекс не несёт в себе полезной информации и служит лишь для обозначения чего-либо"
   ]
  },
  {
   "cell_type": "code",
   "execution_count": 8,
   "metadata": {},
   "outputs": [],
   "source": [
    "df.drop(['stringency_index'], axis = 1, inplace = True)\n",
    "df.drop(['human_development_index'], axis = 1, inplace = True)"
   ]
  },
  {
   "cell_type": "markdown",
   "metadata": {},
   "source": [
    "Во-вторых, уберём все признаки, где есть слово **total**, потому что для задания нам нужны данные на момент планирования поездки, а не за всё время. (иначе моделька всё время показывала бы красный сигнал)"
   ]
  },
  {
   "cell_type": "code",
   "execution_count": 9,
   "metadata": {},
   "outputs": [],
   "source": [
    "# Удаляем признаки total\n",
    "df.drop(['total_tests'], axis = 1, inplace = True)\n",
    "df.drop(['total_tests_per_thousand'], axis = 1, inplace = True)\n",
    "df.drop(['total_vaccinations'], axis = 1, inplace = True)\n",
    "df.drop(['total_vaccinations_per_hundred'], axis = 1, inplace = True)\n",
    "df.drop(['total_cases'], axis = 1, inplace = True)\n",
    "df.drop(['total_deaths'], axis = 1, inplace = True)\n",
    "df.drop(['total_cases_per_million'], axis = 1, inplace = True)\n",
    "df.drop(['total_deaths_per_million'], axis = 1, inplace = True)"
   ]
  },
  {
   "cell_type": "markdown",
   "metadata": {},
   "source": [
    "####  *Изучаем отчёт...*\n",
    "В отчёте видно, что такие признаки как: **location** и **date** имеют очень большой разброс данных. Для нашей будущей модели эти данные не будут нести никакой полезной информации, потому что большой разброс никак не поможет нам найти закономерности и модель будет получать только шумы. Поэтому можно смело удалять их"
   ]
  },
  {
   "cell_type": "code",
   "execution_count": 10,
   "metadata": {},
   "outputs": [],
   "source": [
    "df.drop(['location'], axis = 1, inplace = True)\n",
    "df.drop(['date'], axis = 1, inplace = True)"
   ]
  },
  {
   "cell_type": "markdown",
   "metadata": {},
   "source": [
    "#### *Изучаем отчёт дальше...*\n",
    "У нас есть признаки с пропусками. Что можно с ними сделать?"
   ]
  },
  {
   "cell_type": "markdown",
   "metadata": {},
   "source": [
    "- Можно заполнить их наиболее повторяющимися данными;\n",
    "- Можно удалить их;\n",
    "- Можно взять среднюю среди соседей."
   ]
  },
  {
   "cell_type": "markdown",
   "metadata": {},
   "source": [
    "Будем поступать самым на мой взгляд способом - те данные, у которых пропуск будет более 15% будем удалять, а соответственно данные с меньшим пропуском будем заполнять наиболее повторяющимися значениями.\n",
    "**handwashing_facilities** - пропуск 54%;\n",
    "**male_smokers** - пропуск 29,2%;\n",
    "**female_smokers** - пропуск 28,1%;\n",
    "**extreme_poverty** - пропуск 38,1%;\n",
    "**new_vaccinations_smoothed_per_million** - пропуск 87,1%;\n",
    "**people_fully_vaccinated_per_hundred** - пропуск 94,8%;\n",
    "**people_vaccinated_per_hundred** - пропуск 92,5%;\n",
    "**total_vaccinations_per_hundred** - пропуск 91,7%;\n",
    "**new_vaccinations_smoothed** - пропуск 87,1%\n",
    "**new_vaccinations** - пропуск 93%;\n",
    "**people_fully_vaccinated** - пропуск 94,8%;\n",
    "**people_vaccinated** - пропуск 92,5%\n",
    "**total_vaccinations** - пропуск 91,7%\n",
    "**tests_units** - пропуск 45,9%\n",
    "**tests_per_case** - пропуск 50%\n",
    "**positive_rate** - пропуск 49,3%\n",
    "**new_tests_smoothed_per_thousand** - пропуск 47,6%\n",
    "**new_tests_smoothed** - пропуск 47,6%\n",
    "**new_tests_per_thousand** - пропуск 54,2%\n",
    "**total_tests_per_thousand** - пропуск 54,5%\n",
    "**total_tests** - пропуск 54,5%\n",
    "**new_tests** - пропуск 54,2%\n",
    "**weekly_hosp_admissions_per_million** - пропуск 98,3%\n",
    "**weekly_hosp_admissions** - пропуск 98,3%\n",
    "**weekly_icu_admissions_per_million** - пропуск 99,1%\n",
    "**weekly_icu_admissions** - пропуск 99,1%\n",
    "**hosp_patients_per_million** - пропуск 87,5%\n",
    "**hosp_patients** - пропуск 87,5%\n",
    "**icu_patients_per_million** - пропуск 89,6%\n",
    "**icu_patients** - пропуск 89,6%\n",
    "**reproduction_rate** - пропуск 19,4%"
   ]
  },
  {
   "cell_type": "code",
   "execution_count": 11,
   "metadata": {},
   "outputs": [],
   "source": [
    "# Удалем данные с пропусками\n",
    "df.drop(['icu_patients'], axis = 1, inplace = True)\n",
    "df.drop(['icu_patients_per_million'], axis = 1, inplace = True)\n",
    "df.drop(['hosp_patients'], axis = 1, inplace = True)\n",
    "df.drop(['hosp_patients_per_million'], axis = 1, inplace = True)\n",
    "df.drop(['weekly_icu_admissions'], axis = 1, inplace = True)\n",
    "df.drop(['weekly_icu_admissions_per_million'], axis = 1, inplace = True)\n",
    "df.drop(['weekly_hosp_admissions'], axis = 1, inplace = True)\n",
    "df.drop(['weekly_hosp_admissions_per_million'], axis = 1, inplace = True)\n",
    "df.drop(['new_tests'], axis = 1, inplace = True)\n",
    "df.drop(['new_tests_per_thousand'], axis = 1, inplace = True)\n",
    "df.drop(['new_tests_smoothed'], axis = 1, inplace = True)\n",
    "df.drop(['new_tests_smoothed_per_thousand'], axis = 1, inplace = True)\n",
    "df.drop(['positive_rate'], axis = 1, inplace = True)\n",
    "df.drop(['tests_per_case'], axis = 1, inplace = True)\n",
    "df.drop(['tests_units'], axis = 1, inplace = True)\n",
    "df.drop(['people_vaccinated'], axis = 1, inplace = True)\n",
    "df.drop(['people_fully_vaccinated'], axis = 1, inplace = True)\n",
    "df.drop(['new_vaccinations'], axis = 1, inplace = True)\n",
    "df.drop(['new_vaccinations_smoothed'], axis = 1, inplace = True)\n",
    "df.drop(['people_vaccinated_per_hundred'], axis = 1, inplace = True)\n",
    "df.drop(['people_fully_vaccinated_per_hundred'], axis = 1, inplace = True)\n",
    "df.drop(['new_vaccinations_smoothed_per_million'], axis = 1, inplace = True)\n",
    "df.drop(['extreme_poverty'], axis = 1, inplace = True)\n",
    "df.drop(['female_smokers'], axis = 1, inplace = True)\n",
    "df.drop(['male_smokers'], axis = 1, inplace = True)\n",
    "df.drop(['handwashing_facilities'], axis = 1, inplace = True)"
   ]
  },
  {
   "cell_type": "markdown",
   "metadata": {},
   "source": [
    "*Конечно, можно заполнить это всё наиболее повторяющимися значениями, но я больше за достоверность данных, нежели их полноту (с небольшими корректировками)*"
   ]
  },
  {
   "cell_type": "markdown",
   "metadata": {},
   "source": [
    "####  *Изучаем отчёт дальше...*\n",
    "Видим ещё признаки, которые хорошо коррелируют с остальными, а значит они несут одни и те же данные. Можем смело удалять их. Честно можем, ведь одинаковые.. **life_expectancy**, **new_cases_smoothed**, **new_deaths_smoothed**, **median_age** и **aged_70_older** (аналог age 65), **new_deaths_smoothed_per_million**, **new_cases_smoothed_per_million**"
   ]
  },
  {
   "cell_type": "code",
   "execution_count": 12,
   "metadata": {},
   "outputs": [],
   "source": [
    "# Удаляем корреляционные данные\n",
    "df.drop(['new_deaths'], axis = 1, inplace = True)\n",
    "df.drop(['new_cases_smoothed'], axis = 1, inplace = True)\n",
    "df.drop(['new_deaths_smoothed'], axis = 1, inplace = True)\n",
    "df.drop(['new_cases_smoothed_per_million'], axis = 1, inplace = True)\n",
    "df.drop(['new_deaths_smoothed_per_million'], axis = 1, inplace = True)\n",
    "df.drop(['life_expectancy'], axis = 1, inplace = True)\n",
    "df.drop(['median_age'], axis = 1, inplace = True)\n",
    "df.drop(['aged_70_older'], axis = 1, inplace = True)"
   ]
  },
  {
   "cell_type": "markdown",
   "metadata": {},
   "source": [
    "# 1.3 Описание структуры данных"
   ]
  },
  {
   "cell_type": "markdown",
   "metadata": {},
   "source": [
    "Теперь можем обработать пустые значения и расшифровать данные для более понятного анализа"
   ]
  },
  {
   "cell_type": "code",
   "execution_count": 35,
   "metadata": {},
   "outputs": [],
   "source": [
    "# Заполняем пустые значения медианами\n",
    "df = df.fillna(df.median(axis=0), axis=0)"
   ]
  },
  {
   "cell_type": "markdown",
   "metadata": {},
   "source": [
    "Проверим, что значения и в правду заполнились"
   ]
  },
  {
   "cell_type": "code",
   "execution_count": 13,
   "metadata": {},
   "outputs": [
    {
     "data": {
      "text/plain": [
       "continent                     76186\n",
       "new_cases                     78493\n",
       "new_cases_per_million         78067\n",
       "new_deaths_per_million        68773\n",
       "reproduction_rate             64574\n",
       "population                    79592\n",
       "population_density            74654\n",
       "aged_65_older                 71585\n",
       "gdp_per_capita                72708\n",
       "cardiovasc_death_rate         73305\n",
       "diabetes_prevalence           74279\n",
       "hospital_beds_per_thousand    67004\n",
       "last_updated_date               210\n",
       "dtype: int64"
      ]
     },
     "execution_count": 13,
     "metadata": {},
     "output_type": "execute_result"
    }
   ],
   "source": [
    "# Проверка заполнения\n",
    "df.count(axis=0)"
   ]
  },
  {
   "cell_type": "markdown",
   "metadata": {},
   "source": [
    "Проблемка, данные в continent не удалось восстановить. Ничего страшного. Удалим строки с недостающими данными в continent. Можно было бы их восстановить повторяющимися значениями, но как было сказано ранее, лучше достоверность, чем полнота)"
   ]
  },
  {
   "cell_type": "code",
   "execution_count": 37,
   "metadata": {},
   "outputs": [],
   "source": [
    "df.drop(['last_updated_date'], axis = 1, inplace = True)\n",
    "df = df.dropna(axis=0)"
   ]
  },
  {
   "cell_type": "code",
   "execution_count": 38,
   "metadata": {},
   "outputs": [
    {
     "data": {
      "text/plain": [
       "(76186, 12)"
      ]
     },
     "execution_count": 38,
     "metadata": {},
     "output_type": "execute_result"
    }
   ],
   "source": [
    "# Проверка размера\n",
    "df.shape"
   ]
  },
  {
   "cell_type": "raw",
   "metadata": {},
   "source": [
    "Итого: осталось у нас из 79 записей тысяч 76 тысяч. Мы потеряли около 4% от исходных данных. Больно, но не сильно."
   ]
  },
  {
   "cell_type": "code",
   "execution_count": 39,
   "metadata": {},
   "outputs": [
    {
     "name": "stdout",
     "output_type": "stream",
     "text": [
      "Feature importances:\n",
      " 1. feature 'aged_65_older' (0.2300)\n",
      " 2. feature 'diabetes_prevalence' (0.1532)\n",
      " 3. feature 'gdp_per_capita' (0.1415)\n",
      " 4. feature 'hospital_beds_per_thousand' (0.1159)\n",
      " 5. feature 'cardiovasc_death_rate' (0.1146)\n",
      " 6. feature 'population_density' (0.1078)\n",
      " 7. feature 'population' (0.1054)\n",
      " 8. feature 'new_cases_per_million' (0.0115)\n",
      " 9. feature 'new_deaths_per_million' (0.0106)\n",
      "10. feature 'new_cases' (0.0087)\n",
      "11. feature 'reproduction_rate' (0.0009)\n"
     ]
    }
   ],
   "source": [
    "X = df.drop(('continent'), axis=1)  # Выбрасываем столбец 'class'.\n",
    "y = df['continent']\n",
    "\n",
    "from sklearn.model_selection import train_test_split\n",
    "X_train, X_test, y_train, y_test = train_test_split(X, y, test_size = 0.3, random_state = 11)\n",
    "feature_names = X.columns\n",
    "\n",
    "from sklearn import ensemble\n",
    "rf = ensemble.RandomForestClassifier(n_estimators=100, random_state=11)\n",
    "rf.fit(X_train, y_train)\n",
    "\n",
    "importances = rf.feature_importances_\n",
    "indices = np.argsort(importances)[::-1]\n",
    "\n",
    "print(\"Feature importances:\")\n",
    "for f, idx in enumerate(indices):\n",
    "    print(\"{:2d}. feature '{:5s}' ({:.4f})\".format(f + 1, feature_names[idx], importances[idx]))"
   ]
  },
  {
   "cell_type": "markdown",
   "metadata": {},
   "source": [
    "Наиболее важные признаки для целевой переменной - **aged_65_older**, **diabetes_prevalence**, **gdp_per_capita**, **hospital_beds_per_thousand**, **cardiovasc_death_rate**, **population**, **population_density**. Признаки: **reproduction_rate**, **new_cases**, **new_deaths_per_million**, **new_cases_per_million** не так значимы"
   ]
  },
  {
   "cell_type": "code",
   "execution_count": 40,
   "metadata": {},
   "outputs": [],
   "source": [
    "# Удаляем ненужные столбцы\n",
    "df.drop(['reproduction_rate'], axis = 1, inplace = True)\n",
    "df.drop(['new_cases'], axis = 1, inplace = True)\n",
    "df.drop(['new_deaths_per_million'], axis = 1, inplace = True)\n",
    "df.drop(['new_cases_per_million'], axis = 1, inplace = True)"
   ]
  },
  {
   "cell_type": "markdown",
   "metadata": {},
   "source": [
    "#### Описание признаков\n",
    "- continent (континент)\n",
    "- population (популяция людей)\n",
    "- aged_65_older (люди старше 65)\n",
    "- gdp_per_capita (внутренний продукт на душу населения)\n",
    "- cardiovasc_death_rate (смерть от сердечнососуд заболеваний)\n",
    "- diabetes_prevalence (диабетики)\n",
    "- hospital_beds_per_thousand (кол-во коек в госпитале на 1000 людей)"
   ]
  },
  {
   "cell_type": "markdown",
   "metadata": {},
   "source": [
    "# 1.5 Кластеризация"
   ]
  },
  {
   "cell_type": "code",
   "execution_count": 41,
   "metadata": {},
   "outputs": [],
   "source": [
    "df.drop(['continent'], axis = 1, inplace = True)"
   ]
  },
  {
   "cell_type": "code",
   "execution_count": 42,
   "metadata": {},
   "outputs": [
    {
     "data": {
      "text/plain": [
       "(10, 7)"
      ]
     },
     "execution_count": 42,
     "metadata": {},
     "output_type": "execute_result"
    }
   ],
   "source": [
    "%matplotlib inline\n",
    "import matplotlib.pyplot as plt\n",
    "import seaborn as sns; sns.set()\n",
    "import numpy as np\n",
    "from sklearn.cluster import KMeans\n",
    "\n",
    "kmeans = KMeans(n_clusters = 10, random_state = 0)\n",
    "clusters = kmeans.fit_predict(df)\n",
    "kmeans.cluster_centers_.shape"
   ]
  },
  {
   "cell_type": "code",
   "execution_count": null,
   "metadata": {},
   "outputs": [],
   "source": [
    "#Импорт библиотек\n",
    "from sklearn import metrics\n",
    "from sklearn import datasets\n",
    "import pandas as pd\n",
    "from sklearn.cluster import KMeans, AgglomerativeClustering, AffinityPropagation, SpectralClustering\n",
    "\n",
    "#Ввод переменных за X и Y\n",
    "X, y = df.drop(['population'], axis=1), df['population']\n",
    "\n",
    "#Применение 4-х алгоритмов класстеризации - KMeans, Affinity, Spectral и Agglomerative\n",
    "algorithms = []\n",
    "algorithms.append(KMeans(n_clusters=10, random_state=1))\n",
    "algorithms.append(AffinityPropagation())\n",
    "algorithms.append(SpectralClustering(n_clusters=10, random_state=1,\n",
    "                                     affinity='nearest_neighbors'))\n",
    "algorithms.append(AgglomerativeClustering(n_clusters=10))\n",
    "\n",
    "#Тесты с использованием различных метрик\n",
    "df = []\n",
    "for algo in algorithms:\n",
    "    algo.fit(X)\n",
    "    df.append(({\n",
    "        'ARI': metrics.adjusted_rand_score(y, algo.labels_),\n",
    "        'AMI': metrics.adjusted_mutual_info_score(y, algo.labels_),\n",
    "        'Homogenity': metrics.homogeneity_score(y, algo.labels_),\n",
    "        'Completeness': metrics.completeness_score(y, algo.labels_),\n",
    "        'V-measure': metrics.v_measure_score(y, algo.labels_),\n",
    "        'Silhouette': metrics.silhouette_score(X, algo.labels_)}))\n",
    "\n",
    "results = pd.DataFrame(df=df, columns=['ARI', 'AMI', 'Homogenity',\n",
    "                                           'Completeness', 'V-measure', \n",
    "                                           'Silhouette'],\n",
    "                       index=['K-means', 'Affinity', \n",
    "                              'Spectral', 'Agglomerative'])\n",
    "\n",
    "results"
   ]
  },
  {
   "cell_type": "markdown",
   "metadata": {},
   "source": [
    "### Из всех методов  лучшим оказался метод KMeans - 0.183. На втором месте Spectral - 0.179, на третьем Agglomerative - 0.177, и на четвёртом - Affinity - 0.175. Из результата алгоритмов будем использовать алгоритм KMeans, потому что он показал лучший результат среди остальных 4"
   ]
  },
  {
   "cell_type": "markdown",
   "metadata": {},
   "source": [
    "# 1.6 Отчёт"
   ]
  },
  {
   "cell_type": "markdown",
   "metadata": {},
   "source": [
    "К отчёту прилагаю\n",
    "1. Код\n",
    "2. Обработанную БД\n",
    "3. HTML отчёт работы\n",
    "4. HTML Анализ БД\n",
    "5. Результат класстеризации"
   ]
  },
  {
   "cell_type": "code",
   "execution_count": null,
   "metadata": {},
   "outputs": [],
   "source": [
    "# Сохранение отчёта анализа БД\n",
    "profile.to_file(\"Pandas Profiling Report.html\")"
   ]
  },
  {
   "cell_type": "code",
   "execution_count": 21,
   "metadata": {},
   "outputs": [],
   "source": [
    "# Сохранение БД\n",
    "df.to_csv('data.csv')"
   ]
  },
  {
   "cell_type": "code",
   "execution_count": null,
   "metadata": {},
   "outputs": [],
   "source": [
    "#Сохранение в HTML\n",
    "!jupyter nbconvert C8_M1.ipynb --to html"
   ]
  }
 ],
 "metadata": {
  "kernelspec": {
   "display_name": "Python 3",
   "language": "python",
   "name": "python3"
  },
  "language_info": {
   "codemirror_mode": {
    "name": "ipython",
    "version": 3
   },
   "file_extension": ".py",
   "mimetype": "text/x-python",
   "name": "python",
   "nbconvert_exporter": "python",
   "pygments_lexer": "ipython3",
   "version": "3.8.8"
  }
 },
 "nbformat": 4,
 "nbformat_minor": 4
}
